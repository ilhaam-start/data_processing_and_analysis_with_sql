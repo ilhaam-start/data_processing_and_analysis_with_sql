{
 "cells": [
  {
   "cell_type": "code",
   "execution_count": 1,
   "metadata": {},
   "outputs": [],
   "source": [
    "%load_ext sql"
   ]
  },
  {
   "cell_type": "code",
   "execution_count": 2,
   "metadata": {},
   "outputs": [],
   "source": [
    "%sql postgresql+psycopg2://localhost:5432/intro_to_sql_for_analytics"
   ]
  },
  {
   "cell_type": "code",
   "execution_count": 3,
   "metadata": {},
   "outputs": [
    {
     "name": "stdout",
     "output_type": "stream",
     "text": [
      " * postgresql+psycopg2://localhost:5432/intro_to_sql_for_analytics\n",
      "5 rows affected.\n"
     ]
    },
    {
     "data": {
      "text/html": [
       "<table>\n",
       "    <tr>\n",
       "        <th>index</th>\n",
       "        <th>year</th>\n",
       "        <th>year_rank</th>\n",
       "        <th>group_name</th>\n",
       "        <th>artist</th>\n",
       "        <th>song_name</th>\n",
       "        <th>id</th>\n",
       "    </tr>\n",
       "    <tr>\n",
       "        <td>0</td>\n",
       "        <td>1956</td>\n",
       "        <td>1</td>\n",
       "        <td>Elvis Presley</td>\n",
       "        <td>Elvis Presley</td>\n",
       "        <td>Heartbreak Hotel</td>\n",
       "        <td>1.0</td>\n",
       "    </tr>\n",
       "    <tr>\n",
       "        <td>1</td>\n",
       "        <td>1956</td>\n",
       "        <td>2</td>\n",
       "        <td>Elvis Presley</td>\n",
       "        <td>Elvis Presley</td>\n",
       "        <td>Don&#x27;t Be Cruel</td>\n",
       "        <td>2.0</td>\n",
       "    </tr>\n",
       "    <tr>\n",
       "        <td>2</td>\n",
       "        <td>1956</td>\n",
       "        <td>3</td>\n",
       "        <td>Nelson Riddle</td>\n",
       "        <td>Nelson Riddle</td>\n",
       "        <td>Lisbon Antigua</td>\n",
       "        <td>3.0</td>\n",
       "    </tr>\n",
       "    <tr>\n",
       "        <td>3</td>\n",
       "        <td>1956</td>\n",
       "        <td>4</td>\n",
       "        <td>Platters</td>\n",
       "        <td>Platters</td>\n",
       "        <td>My Prayer</td>\n",
       "        <td>4.0</td>\n",
       "    </tr>\n",
       "    <tr>\n",
       "        <td>4</td>\n",
       "        <td>1956</td>\n",
       "        <td>5</td>\n",
       "        <td>Gogi Grant</td>\n",
       "        <td>Gogi Grant</td>\n",
       "        <td>The Wayward Wind</td>\n",
       "        <td>5.0</td>\n",
       "    </tr>\n",
       "</table>"
      ],
      "text/plain": [
       "[(0, 1956, 1, 'Elvis Presley', 'Elvis Presley', 'Heartbreak Hotel', 1.0),\n",
       " (1, 1956, 2, 'Elvis Presley', 'Elvis Presley', \"Don't Be Cruel\", 2.0),\n",
       " (2, 1956, 3, 'Nelson Riddle', 'Nelson Riddle', 'Lisbon Antigua', 3.0),\n",
       " (3, 1956, 4, 'Platters', 'Platters', 'My Prayer', 4.0),\n",
       " (4, 1956, 5, 'Gogi Grant', 'Gogi Grant', 'The Wayward Wind', 5.0)]"
      ]
     },
     "execution_count": 3,
     "metadata": {},
     "output_type": "execute_result"
    }
   ],
   "source": [
    "%%sql\n",
    "\n",
    "SELECT\n",
    "    *\n",
    "FROM billboard_top_100_year_end\n",
    "LIMIT 5"
   ]
  },
  {
   "cell_type": "code",
   "execution_count": 4,
   "metadata": {},
   "outputs": [
    {
     "name": "stdout",
     "output_type": "stream",
     "text": [
      " * postgresql+psycopg2://localhost:5432/intro_to_sql_for_analytics\n",
      "5 rows affected.\n"
     ]
    },
    {
     "data": {
      "text/html": [
       "<table>\n",
       "    <tr>\n",
       "        <th>index</th>\n",
       "        <th>year</th>\n",
       "        <th>year_rank</th>\n",
       "        <th>group_name</th>\n",
       "        <th>artist</th>\n",
       "        <th>song_name</th>\n",
       "        <th>id</th>\n",
       "    </tr>\n",
       "    <tr>\n",
       "        <td>0</td>\n",
       "        <td>1956</td>\n",
       "        <td>1</td>\n",
       "        <td>Elvis Presley</td>\n",
       "        <td>Elvis Presley</td>\n",
       "        <td>Heartbreak Hotel</td>\n",
       "        <td>1.0</td>\n",
       "    </tr>\n",
       "    <tr>\n",
       "        <td>1</td>\n",
       "        <td>1956</td>\n",
       "        <td>2</td>\n",
       "        <td>Elvis Presley</td>\n",
       "        <td>Elvis Presley</td>\n",
       "        <td>Don&#x27;t Be Cruel</td>\n",
       "        <td>2.0</td>\n",
       "    </tr>\n",
       "    <tr>\n",
       "        <td>2</td>\n",
       "        <td>1956</td>\n",
       "        <td>3</td>\n",
       "        <td>Nelson Riddle</td>\n",
       "        <td>Nelson Riddle</td>\n",
       "        <td>Lisbon Antigua</td>\n",
       "        <td>3.0</td>\n",
       "    </tr>\n",
       "    <tr>\n",
       "        <td>3</td>\n",
       "        <td>1956</td>\n",
       "        <td>4</td>\n",
       "        <td>Platters</td>\n",
       "        <td>Platters</td>\n",
       "        <td>My Prayer</td>\n",
       "        <td>4.0</td>\n",
       "    </tr>\n",
       "    <tr>\n",
       "        <td>4</td>\n",
       "        <td>1956</td>\n",
       "        <td>5</td>\n",
       "        <td>Gogi Grant</td>\n",
       "        <td>Gogi Grant</td>\n",
       "        <td>The Wayward Wind</td>\n",
       "        <td>5.0</td>\n",
       "    </tr>\n",
       "</table>"
      ],
      "text/plain": [
       "[(0, 1956, 1, 'Elvis Presley', 'Elvis Presley', 'Heartbreak Hotel', 1.0),\n",
       " (1, 1956, 2, 'Elvis Presley', 'Elvis Presley', \"Don't Be Cruel\", 2.0),\n",
       " (2, 1956, 3, 'Nelson Riddle', 'Nelson Riddle', 'Lisbon Antigua', 3.0),\n",
       " (3, 1956, 4, 'Platters', 'Platters', 'My Prayer', 4.0),\n",
       " (4, 1956, 5, 'Gogi Grant', 'Gogi Grant', 'The Wayward Wind', 5.0)]"
      ]
     },
     "execution_count": 4,
     "metadata": {},
     "output_type": "execute_result"
    }
   ],
   "source": [
    "%sql SELECT * FROM billboard_top_100_year_end LIMIT 5"
   ]
  }
 ],
 "metadata": {
  "kernelspec": {
   "display_name": "sql_for_data_venv",
   "language": "python",
   "name": "python3"
  },
  "language_info": {
   "codemirror_mode": {
    "name": "ipython",
    "version": 3
   },
   "file_extension": ".py",
   "mimetype": "text/x-python",
   "name": "python",
   "nbconvert_exporter": "python",
   "pygments_lexer": "ipython3",
   "version": "3.11.2"
  },
  "orig_nbformat": 4
 },
 "nbformat": 4,
 "nbformat_minor": 2
}
